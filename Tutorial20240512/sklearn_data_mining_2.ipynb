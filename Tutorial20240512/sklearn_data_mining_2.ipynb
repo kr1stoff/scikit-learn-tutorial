{
 "cells": [
  {
   "metadata": {},
   "cell_type": "markdown",
   "source": "# 科学数据处理统计学习指南",
   "id": "6ac43894434d68a0"
  },
  {
   "metadata": {},
   "cell_type": "markdown",
   "source": "统计学习：scikit-learn中的设置和估计对象",
   "id": "93da849d998007c6"
  },
  {
   "metadata": {
    "ExecuteTime": {
     "end_time": "2024-06-15T03:22:22.811290Z",
     "start_time": "2024-06-15T03:22:21.628615Z"
    }
   },
   "cell_type": "code",
   "source": "from sklearn import datasets",
   "id": "1aa2efc65582ab05",
   "outputs": [],
   "execution_count": 2
  },
  {
   "metadata": {
    "ExecuteTime": {
     "end_time": "2024-06-15T03:22:24.901169Z",
     "start_time": "2024-06-15T03:22:24.884019Z"
    }
   },
   "cell_type": "code",
   "source": [
    "# 鸢尾花\n",
    "iris = datasets.load_iris()\n",
    "data = iris.data\n",
    "data.shape"
   ],
   "id": "2128cff4ded6ef24",
   "outputs": [
    {
     "data": {
      "text/plain": [
       "(150, 4)"
      ]
     },
     "execution_count": 3,
     "metadata": {},
     "output_type": "execute_result"
    }
   ],
   "execution_count": 3
  },
  {
   "metadata": {
    "ExecuteTime": {
     "end_time": "2024-06-15T03:22:26.594131Z",
     "start_time": "2024-06-15T03:22:26.553956Z"
    }
   },
   "cell_type": "code",
   "source": [
    "# 数字数据集由1797个8x8手写数字图像组成, 三维数组\n",
    "digits = datasets.load_digits()\n",
    "digits.images.shape"
   ],
   "id": "ef28123f9d1c4168",
   "outputs": [
    {
     "data": {
      "text/plain": [
       "(1797, 8, 8)"
      ]
     },
     "execution_count": 4,
     "metadata": {},
     "output_type": "execute_result"
    }
   ],
   "execution_count": 4
  },
  {
   "metadata": {
    "ExecuteTime": {
     "end_time": "2024-06-15T03:22:27.974280Z",
     "start_time": "2024-06-15T03:22:27.442046Z"
    }
   },
   "cell_type": "code",
   "source": "import matplotlib.pyplot as plt",
   "id": "90d8132ccd3625c",
   "outputs": [],
   "execution_count": 5
  },
  {
   "metadata": {
    "ExecuteTime": {
     "end_time": "2024-06-15T03:22:29.372306Z",
     "start_time": "2024-06-15T03:22:29.179593Z"
    }
   },
   "cell_type": "code",
   "source": "plt.imshow(digits.images[-1], cmap=plt.cm.gray_r)",
   "id": "6b0e077c986804dd",
   "outputs": [
    {
     "data": {
      "text/plain": [
       "<matplotlib.image.AxesImage at 0x262f2e0ee10>"
      ]
     },
     "execution_count": 6,
     "metadata": {},
     "output_type": "execute_result"
    },
    {
     "data": {
      "text/plain": [
       "<Figure size 640x480 with 1 Axes>"
      ],
      "image/png": "[encoded data removed]"
     },
     "metadata": {},
     "output_type": "display_data"
    }
   ],
   "execution_count": 6
  },
  {
   "metadata": {
    "ExecuteTime": {
     "end_time": "2024-06-15T03:24:07.744038Z",
     "start_time": "2024-06-15T03:24:07.739746Z"
    }
   },
   "cell_type": "code",
   "source": "data = digits.images.reshape((digits.images.shape[0], -1))",
   "id": "64b8b49216c84f5e",
   "outputs": [],
   "execution_count": 11
  },
  {
   "metadata": {},
   "cell_type": "markdown",
   "source": "有监督的学习：从高维观测值预测输出变量",
   "id": "cba480907934981a"
  },
  {
   "metadata": {
    "ExecuteTime": {
     "end_time": "2024-06-15T03:36:37.350874Z",
     "start_time": "2024-06-15T03:36:37.331976Z"
    }
   },
   "cell_type": "code",
   "source": [
    "import numpy as np\n",
    "from sklearn import datasets"
   ],
   "id": "b85971b0f0171",
   "outputs": [],
   "execution_count": 14
  },
  {
   "metadata": {
    "ExecuteTime": {
     "end_time": "2024-06-15T05:48:38.958012Z",
     "start_time": "2024-06-15T05:48:38.937818Z"
    }
   },
   "cell_type": "code",
   "source": [
    "iris_X, iris_y = datasets.load_iris(return_X_y=True)\n",
    "np.unique(iris_y)"
   ],
   "id": "d66dbfdf9c4c0276",
   "outputs": [
    {
     "data": {
      "text/plain": [
       "array([0, 1, 2])"
      ]
     },
     "execution_count": 17,
     "metadata": {},
     "output_type": "execute_result"
    }
   ],
   "execution_count": 17
  },
  {
   "metadata": {
    "ExecuteTime": {
     "end_time": "2024-06-15T05:51:03.275717Z",
     "start_time": "2024-06-15T05:51:03.262443Z"
    }
   },
   "cell_type": "code",
   "source": [
    "np.random.seed(0)\n",
    "indices = np.random.permutation(len(iris_y))"
   ],
   "id": "8059a778fccab42",
   "outputs": [],
   "execution_count": 19
  },
  {
   "metadata": {
    "ExecuteTime": {
     "end_time": "2024-06-15T05:53:33.479142Z",
     "start_time": "2024-06-15T05:53:33.473622Z"
    }
   },
   "cell_type": "code",
   "source": [
    "iris_X_train = iris_X[indices[:-10]]\n",
    "iris_y_train = iris_y[indices[:-10]]\n",
    "iris_X_test = iris_X[indices[-10:]]\n",
    "iris_y_test = iris_y[indices[-10:]]"
   ],
   "id": "bfc709f7d99c1626",
   "outputs": [],
   "execution_count": 21
  },
  {
   "metadata": {
    "ExecuteTime": {
     "end_time": "2024-06-15T05:58:03.591578Z",
     "start_time": "2024-06-15T05:58:03.409255Z"
    }
   },
   "cell_type": "code",
   "source": "from sklearn.neighbors import KNeighborsClassifier",
   "id": "e9857a6c7257ab0a",
   "outputs": [],
   "execution_count": 25
  },
  {
   "metadata": {
    "ExecuteTime": {
     "end_time": "2024-06-15T06:00:50.706359Z",
     "start_time": "2024-06-15T06:00:50.681414Z"
    }
   },
   "cell_type": "code",
   "source": [
    "knn = KNeighborsClassifier()\n",
    "knn.fit(iris_X_train, iris_y_train)"
   ],
   "id": "8c95c505465b2e3a",
   "outputs": [
    {
     "data": {
      "text/plain": [
       "array([1, 1, 1, 0, 0, 0, 2, 1, 2, 0])"
      ]
     },
     "execution_count": 36,
     "metadata": {},
     "output_type": "execute_result"
    }
   ],
   "execution_count": 36
  },
  {
   "metadata": {
    "ExecuteTime": {
     "end_time": "2024-06-15T06:00:16.991736Z",
     "start_time": "2024-06-15T06:00:16.972268Z"
    }
   },
   "cell_type": "code",
   "source": "knn.predict(iris_X_test)",
   "id": "4cec0893a1a78e72",
   "outputs": [
    {
     "data": {
      "text/plain": [
       "array([1, 2, 1, 0, 0, 0, 2, 1, 2, 0])"
      ]
     },
     "execution_count": 34,
     "metadata": {},
     "output_type": "execute_result"
    }
   ],
   "execution_count": 34
  },
  {
   "metadata": {
    "ExecuteTime": {
     "end_time": "2024-06-15T06:00:29.454448Z",
     "start_time": "2024-06-15T06:00:29.435641Z"
    }
   },
   "cell_type": "code",
   "source": "iris_y_test",
   "id": "1915f8c6cc30a982",
   "outputs": [
    {
     "data": {
      "text/plain": [
       "array([1, 1, 1, 0, 0, 0, 2, 1, 2, 0])"
      ]
     },
     "execution_count": 35,
     "metadata": {},
     "output_type": "execute_result"
    }
   ],
   "execution_count": 35
  },
  {
   "metadata": {},
   "cell_type": "code",
   "outputs": [],
   "execution_count": null,
   "source": "",
   "id": "c1bc0b2aec71c7c0"
  }
 ],
 "metadata": {
  "kernelspec": {
   "display_name": "Python 3",
   "language": "python",
   "name": "python3"
  },
  "language_info": {
   "codemirror_mode": {
    "name": "ipython",
    "version": 2
   },
   "file_extension": ".py",
   "mimetype": "text/x-python",
   "name": "python",
   "nbconvert_exporter": "python",
   "pygments_lexer": "ipython2",
   "version": "2.7.6"
  }
 },
 "nbformat": 4,
 "nbformat_minor": 5
}
