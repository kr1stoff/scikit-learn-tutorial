{
 "cells": [
  {
   "metadata": {},
   "cell_type": "markdown",
   "source": "# 科学数据处理统计学习指南",
   "id": "6ac43894434d68a0"
  },
  {
   "metadata": {},
   "cell_type": "markdown",
   "source": "统计学习：scikit-learn中的设置和估计对象",
   "id": "93da849d998007c6"
  },
  {
   "metadata": {
    "ExecuteTime": {
     "end_time": "2024-06-14T09:13:29.848204Z",
     "start_time": "2024-06-14T09:13:29.279894Z"
    }
   },
   "cell_type": "code",
   "source": "from sklearn import datasets",
   "id": "1aa2efc65582ab05",
   "outputs": [],
   "execution_count": 1
  },
  {
   "metadata": {
    "ExecuteTime": {
     "end_time": "2024-06-14T09:13:32.718408Z",
     "start_time": "2024-06-14T09:13:32.703635Z"
    }
   },
   "cell_type": "code",
   "source": [
    "# 鸢尾花\n",
    "iris = datasets.load_iris()\n",
    "data = iris.data\n",
    "data.shape"
   ],
   "id": "2128cff4ded6ef24",
   "outputs": [
    {
     "data": {
      "text/plain": [
       "(150, 4)"
      ]
     },
     "execution_count": 2,
     "metadata": {},
     "output_type": "execute_result"
    }
   ],
   "execution_count": 2
  },
  {
   "metadata": {
    "ExecuteTime": {
     "end_time": "2024-06-14T09:13:33.971297Z",
     "start_time": "2024-06-14T09:13:33.943118Z"
    }
   },
   "cell_type": "code",
   "source": [
    "# 数字数据集由1797个8x8手写数字图像组成, 三维数组\n",
    "digits = datasets.load_digits()\n",
    "digits.images.shape"
   ],
   "id": "ef28123f9d1c4168",
   "outputs": [
    {
     "data": {
      "text/plain": [
       "(1797, 8, 8)"
      ]
     },
     "execution_count": 3,
     "metadata": {},
     "output_type": "execute_result"
    }
   ],
   "execution_count": 3
  },
  {
   "metadata": {
    "ExecuteTime": {
     "end_time": "2024-06-14T09:13:36.843549Z",
     "start_time": "2024-06-14T09:13:35.902670Z"
    }
   },
   "cell_type": "code",
   "source": "import matplotlib.pyplot as plt",
   "id": "90d8132ccd3625c",
   "outputs": [],
   "execution_count": 4
  },
  {
   "metadata": {
    "ExecuteTime": {
     "end_time": "2024-06-14T09:13:37.029054Z",
     "start_time": "2024-06-14T09:13:36.843549Z"
    }
   },
   "cell_type": "code",
   "source": "plt.imshow(digits.images[-1], cmap=plt.cm.gray_r)",
   "id": "6b0e077c986804dd",
   "outputs": [
    {
     "data": {
      "text/plain": [
       "<matplotlib.image.AxesImage at 0x204f1fe7350>"
      ]
     },
     "execution_count": 5,
     "metadata": {},
     "output_type": "execute_result"
    },
    {
     "data": {
      "text/plain": [
       "<Figure size 640x480 with 1 Axes>"
      ],
      "image/png": "[encoded data removed]"
     },
     "metadata": {},
     "output_type": "display_data"
    }
   ],
   "execution_count": 5
  },
  {
   "metadata": {
    "ExecuteTime": {
     "end_time": "2024-06-14T09:13:40.015228Z",
     "start_time": "2024-06-14T09:13:40.010043Z"
    }
   },
   "cell_type": "code",
   "source": "digits.images[-1]",
   "id": "64b8b49216c84f5e",
   "outputs": [
    {
     "data": {
      "text/plain": [
       "array([[ 0.,  0., 10., 14.,  8.,  1.,  0.,  0.],\n",
       "       [ 0.,  2., 16., 14.,  6.,  1.,  0.,  0.],\n",
       "       [ 0.,  0., 15., 15.,  8., 15.,  0.,  0.],\n",
       "       [ 0.,  0.,  5., 16., 16., 10.,  0.,  0.],\n",
       "       [ 0.,  0., 12., 15., 15., 12.,  0.,  0.],\n",
       "       [ 0.,  4., 16.,  6.,  4., 16.,  6.,  0.],\n",
       "       [ 0.,  8., 16., 10.,  8., 16.,  8.,  0.],\n",
       "       [ 0.,  1.,  8., 12., 14., 12.,  1.,  0.]])"
      ]
     },
     "execution_count": 6,
     "metadata": {},
     "output_type": "execute_result"
    }
   ],
   "execution_count": 6
  },
  {
   "metadata": {},
   "cell_type": "code",
   "outputs": [],
   "execution_count": null,
   "source": "",
   "id": "7494e5b2e53154ec"
  }
 ],
 "metadata": {
  "kernelspec": {
   "display_name": "Python 3",
   "language": "python",
   "name": "python3"
  },
  "language_info": {
   "codemirror_mode": {
    "name": "ipython",
    "version": 2
   },
   "file_extension": ".py",
   "mimetype": "text/x-python",
   "name": "python",
   "nbconvert_exporter": "python",
   "pygments_lexer": "ipython2",
   "version": "2.7.6"
  }
 },
 "nbformat": 4,
 "nbformat_minor": 5
}
